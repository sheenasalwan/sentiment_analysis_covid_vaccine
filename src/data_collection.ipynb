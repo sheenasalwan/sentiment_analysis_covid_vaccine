{
 "cells": [
  {
   "cell_type": "code",
   "execution_count": 1,
   "metadata": {},
   "outputs": [
    {
     "name": "stdout",
     "output_type": "stream",
     "text": [
      "Requirement already satisfied: tweepy in /opt/miniconda3/lib/python3.8/site-packages (4.10.1)\n",
      "Requirement already satisfied: requests-oauthlib<2,>=1.2.0 in /opt/miniconda3/lib/python3.8/site-packages (from tweepy) (1.3.0)\n",
      "Requirement already satisfied: oauthlib<4,>=3.2.0 in /opt/miniconda3/lib/python3.8/site-packages (from tweepy) (3.2.1)\n",
      "Requirement already satisfied: requests<3,>=2.27.0 in /opt/miniconda3/lib/python3.8/site-packages (from tweepy) (2.28.1)\n",
      "Requirement already satisfied: charset-normalizer<3,>=2 in /opt/miniconda3/lib/python3.8/site-packages (from requests<3,>=2.27.0->tweepy) (2.1.1)\n",
      "Requirement already satisfied: certifi>=2017.4.17 in /opt/miniconda3/lib/python3.8/site-packages (from requests<3,>=2.27.0->tweepy) (2022.9.14)\n",
      "Requirement already satisfied: urllib3<1.27,>=1.21.1 in /opt/miniconda3/lib/python3.8/site-packages (from requests<3,>=2.27.0->tweepy) (1.25.8)\n",
      "Requirement already satisfied: idna<4,>=2.5 in /opt/miniconda3/lib/python3.8/site-packages (from requests<3,>=2.27.0->tweepy) (2.9)\n",
      "Note: you may need to restart the kernel to use updated packages.\n"
     ]
    }
   ],
   "source": [
    "# pip install tweepy"
   ]
  },
  {
   "cell_type": "markdown",
   "metadata": {},
   "source": [
    "### Data Extraction from Twitter API"
   ]
  },
  {
   "cell_type": "code",
   "execution_count": 10,
   "metadata": {},
   "outputs": [],
   "source": [
    "import tweepy\n",
    "import json\n",
    "import time\n",
    "import datetime\n",
    "from datetime import date, timedelta\n",
    "\n",
    "import pandas as pd\n",
    "import re\n",
    "import string\n",
    "import seaborn as sns"
   ]
  },
  {
   "cell_type": "code",
   "execution_count": 6,
   "metadata": {},
   "outputs": [],
   "source": [
    "api_key = '1D9l2cpV4EJaO1jBrdWU9zfoU' \n",
    "api_key_secret = 'qxyDTwZUABqd0sjaLe1Q3wQSxBhTjRexWbxDptu34fWt51ohpI'\n",
    "access_token = '1572868505137188864-JSJF2tFizDiSvvMTUH5UhGjd1wOn5j'\n",
    "access_token_secret = '6A562B7011LSkzmQs4TNZMLPO3USIw7mh5p89LlyKhOfD'"
   ]
  },
  {
   "cell_type": "code",
   "execution_count": 7,
   "metadata": {},
   "outputs": [],
   "source": [
    "auth = tweepy.OAuthHandler(api_key, api_key_secret)\n",
    "auth.set_access_token(access_token, access_token_secret)\n",
    "api = tweepy.API(auth)"
   ]
  },
  {
   "cell_type": "code",
   "execution_count": null,
   "metadata": {},
   "outputs": [],
   "source": [
    "#api.search_tweets()"
   ]
  },
  {
   "cell_type": "code",
   "execution_count": 37,
   "metadata": {},
   "outputs": [],
   "source": [
    "list_of_dicts = []\n",
    "search_term = 'covid19 covid vaccine'\n",
    "num_tweets = 20000"
   ]
  },
  {
   "cell_type": "code",
   "execution_count": 39,
   "metadata": {},
   "outputs": [],
   "source": [
    "list_of_dates = []\n",
    "today = date.today()\n",
    "for i in range(-7,1):\n",
    "    target_date = (today + timedelta(days=i)).strftime(\"%Y-%m-%d\")\n",
    "    list_of_dates.append(target_date)"
   ]
  },
  {
   "cell_type": "code",
   "execution_count": 42,
   "metadata": {},
   "outputs": [],
   "source": [
    "def get_tweets(search_term = search_term, num_tweets = num_tweets):\n",
    "#     try:\n",
    "        for end_date in list_of_dates:\n",
    "            start_date = (datetime.datetime.strptime(end_date, '%Y-%m-%d') - timedelta(days=1)).strftime(\"%Y-%m-%d\") # Create 1-day windows for extraction\n",
    "            tweet_count = len(list_of_dicts)\n",
    "\n",
    "            for tweet in tweepy.Cursor(api.search_tweets,\n",
    "                                       q=f'{search_term} since:{start_date} until:{end_date}',\n",
    "                                      # q=search_term,\n",
    "                                       lang = 'en',\n",
    "                                       count = num_tweets,\n",
    "                                       tweet_mode = 'extended').items(num_tweets):\n",
    "                #if (not tweet.retweeted) and ('RT @' not in tweet.full_text):\n",
    "                if 'RT @' not in tweet.full_text:\n",
    "                    if tweet.lang == \"en\":\n",
    "                        tweet_dict = {}\n",
    "                        tweet_dict['username'] = tweet.user.name\n",
    "                        tweet_dict['location'] = tweet.user.location\n",
    "                        tweet_dict['text'] = tweet.full_text \n",
    "                        tweet_dict['hashtags'] = tweet.entities['hashtags']\n",
    "                        dtx = tweet.created_at\n",
    "                        tweet_dict['tweet_date'] = dtx.strftime(\"%m/%d/%Y, %H:%M:%S\")\n",
    "                        tweet_dict[\"retweeted\"] = tweet.retweeted\n",
    "                        tweet_dict[\"retweet_count\"] =  tweet.retweet_count\n",
    "                        tweet_dict[\"favorite_count\"] = tweet.favorite_count\n",
    "                        list_of_dicts.append(tweet_dict)\n",
    "                        tweet_count +=1\n",
    "                        #if tweet_count % 20 == 0:\n",
    "                            #print(f'Extracted tweet count = {tweet_count}')\n",
    "                        \n",
    "                        #print(tweet_count)\n",
    "                        \n",
    "            #print(f'Completed extraction for {start_date} to {end_date}. Sleep for 15 mins')\n",
    "            time.sleep(900)\n",
    "            #print('Ready again')"
   ]
  },
  {
   "cell_type": "code",
   "execution_count": 45,
   "metadata": {},
   "outputs": [],
   "source": [
    "get_tweets()"
   ]
  },
  {
   "cell_type": "code",
   "execution_count": 51,
   "metadata": {},
   "outputs": [
    {
     "data": {
      "text/plain": [
       "206967"
      ]
     },
     "execution_count": 51,
     "metadata": {},
     "output_type": "execute_result"
    }
   ],
   "source": [
    "# TO BE UNCOMMENTED FOR DATA EXTRACTION TESTING\n",
    "df = pd.DataFrame(list_of_dicts)\n",
    "len(df)\n",
    "# ============\n",
    "# s_set = {}\n",
    "\n",
    "# for idx in range(0, len(df)):\n",
    "#     s = df[\"tweet_date\"][idx].split(\",\")[0]\n",
    "#     #print(type(s))\n",
    "#     if s in s_set.keys():\n",
    "#         s_set[s] += 1\n",
    "#     else:\n",
    "#         s_set[s] = 1\n",
    "    \n",
    "# s_set\n",
    "#=============\n",
    "df.to_csv(\"../data/vaccination_all_tweets.csv\")"
   ]
  },
  {
   "cell_type": "code",
   "execution_count": 49,
   "metadata": {},
   "outputs": [],
   "source": [
    "df = pd.read_csv(\"../data/vaccination_all_tweets.csv\")"
   ]
  }
 ],
 "metadata": {
  "kernelspec": {
   "display_name": "Python 3",
   "language": "python",
   "name": "python3"
  },
  "language_info": {
   "codemirror_mode": {
    "name": "ipython",
    "version": 3
   },
   "file_extension": ".py",
   "mimetype": "text/x-python",
   "name": "python",
   "nbconvert_exporter": "python",
   "pygments_lexer": "ipython3",
   "version": "3.8.3"
  }
 },
 "nbformat": 4,
 "nbformat_minor": 4
}
