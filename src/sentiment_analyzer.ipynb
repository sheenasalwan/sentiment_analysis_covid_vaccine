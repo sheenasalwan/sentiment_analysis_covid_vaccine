{
 "cells": [
  {
   "cell_type": "code",
   "execution_count": 6,
   "metadata": {},
   "outputs": [
    {
     "name": "stderr",
     "output_type": "stream",
     "text": [
      "[nltk_data] Downloading package vader_lexicon to\n",
      "[nltk_data]     /Users/sheenasalwan/nltk_data...\n",
      "[nltk_data]   Package vader_lexicon is already up-to-date!\n"
     ]
    },
    {
     "data": {
      "application/vnd.jupyter.widget-view+json": {
       "model_id": "5d882f37b7754b5aaf3b88344b9821b4",
       "version_major": 2,
       "version_minor": 0
      },
      "text/plain": [
       "HBox(children=(FloatProgress(value=0.0, description='Downloading https://raw.githubusercontent.com/stanfordnlp…"
      ]
     },
     "metadata": {},
     "output_type": "display_data"
    },
    {
     "name": "stderr",
     "output_type": "stream",
     "text": [
      "2022-10-12 01:13:23 INFO: Downloading default packages for language: en (English) ...\n"
     ]
    },
    {
     "name": "stdout",
     "output_type": "stream",
     "text": [
      "\n"
     ]
    },
    {
     "name": "stderr",
     "output_type": "stream",
     "text": [
      "2022-10-12 01:13:24 INFO: File exists: /Users/sheenasalwan/stanza_resources/en/default.zip\n",
      "2022-10-12 01:13:28 INFO: Finished downloading models and saved to /Users/sheenasalwan/stanza_resources.\n"
     ]
    }
   ],
   "source": [
    "import pandas as pd\n",
    "\n",
    "# NLTK\n",
    "import nltk\n",
    "nltk.download('vader_lexicon')\n",
    "from nltk.sentiment.vader import SentimentIntensityAnalyzer\n",
    "\n",
    "# TextBlob\n",
    "from textblob import TextBlob\n",
    "\n",
    "# Stanza\n",
    "import stanza\n",
    "stanza.download('en')"
   ]
  },
  {
   "cell_type": "code",
   "execution_count": 8,
   "metadata": {},
   "outputs": [
    {
     "name": "stderr",
     "output_type": "stream",
     "text": [
      "/opt/miniconda3/lib/python3.8/site-packages/IPython/core/interactiveshell.py:3145: DtypeWarning: Columns (0,1,6,7,8,9,14,16) have mixed types.Specify dtype option on import or set low_memory=False.\n",
      "  has_raised = await self.run_ast_nodes(code_ast.body, cell_name,\n"
     ]
    }
   ],
   "source": [
    "df_tweet = pd.read_csv(\"../data/vaccination_tweets_cleaned.csv\")"
   ]
  },
  {
   "cell_type": "markdown",
   "metadata": {},
   "source": [
    "#### Sentiment Analysis with NLTK Vader"
   ]
  },
  {
   "cell_type": "code",
   "execution_count": 29,
   "metadata": {},
   "outputs": [],
   "source": [
    "sia = SentimentIntensityAnalyzer()\n",
    "\n",
    "# Obtaining NLTK scores\n",
    "df_tweet['nltk_scores'] = df_tweet['text'].apply(lambda x: sia.polarity_scores(x))\n",
    "\n",
    "# Obtaining NLTK compound score\n",
    "df_tweet['nltk_cmp_score'] = df_tweet['nltk_scores'].apply(lambda score_dict: score_dict['compound'])"
   ]
  },
  {
   "cell_type": "code",
   "execution_count": 30,
   "metadata": {},
   "outputs": [],
   "source": [
    "neutral_thresh = 0.05"
   ]
  },
  {
   "cell_type": "code",
   "execution_count": 31,
   "metadata": {},
   "outputs": [],
   "source": [
    "# Categorize scores into the sentiments of positive, neutral or negative\n",
    "df_tweet['nltk_sentiment'] = df_tweet['nltk_cmp_score'].apply(lambda c: 'Positive' if c >= neutral_thresh else ('Negative' if c <= -(neutral_thresh) else 'Neutral'))\n"
   ]
  },
  {
   "cell_type": "code",
   "execution_count": 33,
   "metadata": {},
   "outputs": [
    {
     "data": {
      "text/html": [
       "<div>\n",
       "<style scoped>\n",
       "    .dataframe tbody tr th:only-of-type {\n",
       "        vertical-align: middle;\n",
       "    }\n",
       "\n",
       "    .dataframe tbody tr th {\n",
       "        vertical-align: top;\n",
       "    }\n",
       "\n",
       "    .dataframe thead th {\n",
       "        text-align: right;\n",
       "    }\n",
       "</style>\n",
       "<table border=\"1\" class=\"dataframe\">\n",
       "  <thead>\n",
       "    <tr style=\"text-align: right;\">\n",
       "      <th></th>\n",
       "      <th>id</th>\n",
       "      <th>user_name</th>\n",
       "      <th>user_location</th>\n",
       "      <th>user_description</th>\n",
       "      <th>user_created</th>\n",
       "      <th>user_followers</th>\n",
       "      <th>user_friends</th>\n",
       "      <th>user_favourites</th>\n",
       "      <th>user_verified</th>\n",
       "      <th>date</th>\n",
       "      <th>text</th>\n",
       "      <th>hashtags</th>\n",
       "      <th>source</th>\n",
       "      <th>retweets</th>\n",
       "      <th>favorites</th>\n",
       "      <th>is_retweet</th>\n",
       "      <th>tokenized</th>\n",
       "      <th>nltk_scores</th>\n",
       "      <th>nltk_cmp_score</th>\n",
       "      <th>nltk_sentiment</th>\n",
       "    </tr>\n",
       "  </thead>\n",
       "  <tbody>\n",
       "    <tr>\n",
       "      <th>206962</th>\n",
       "      <td>1445962108055732232</td>\n",
       "      <td>COVID News</td>\n",
       "      <td>Estados Unidos</td>\n",
       "      <td>News about COVID-19</td>\n",
       "      <td>2013-06-05 08:52:31</td>\n",
       "      <td>3373</td>\n",
       "      <td>1472</td>\n",
       "      <td>129</td>\n",
       "      <td>False</td>\n",
       "      <td>2021-10-07 04:00:05</td>\n",
       "      <td>45 urban bengaluru covidvaccine availability f...</td>\n",
       "      <td>['URBAN', 'Bengaluru', 'CovidVaccine', 'COVISH...</td>\n",
       "      <td>Revive Social App</td>\n",
       "      <td>0</td>\n",
       "      <td>0</td>\n",
       "      <td>False</td>\n",
       "      <td>[45, urban, bengaluru, covidvaccine, availabil...</td>\n",
       "      <td>{'neg': 0.0, 'neu': 0.809, 'pos': 0.191, 'comp...</td>\n",
       "      <td>0.5106</td>\n",
       "      <td>Positive</td>\n",
       "    </tr>\n",
       "    <tr>\n",
       "      <th>206963</th>\n",
       "      <td>1445956889305440264</td>\n",
       "      <td>CoWIN Blore 18-44</td>\n",
       "      <td>Bengaluru, India</td>\n",
       "      <td>Get instant alerts for Free/Paid slots in BBMP...</td>\n",
       "      <td>2021-06-29 09:33:13</td>\n",
       "      <td>21</td>\n",
       "      <td>0</td>\n",
       "      <td>2</td>\n",
       "      <td>False</td>\n",
       "      <td>2021-10-07 03:39:21</td>\n",
       "      <td>pincode 560011\\nsputnik v  dose 1 100 slots\\n\\...</td>\n",
       "      <td>NaN</td>\n",
       "      <td>CowinAlertsBot</td>\n",
       "      <td>0</td>\n",
       "      <td>0</td>\n",
       "      <td>False</td>\n",
       "      <td>[pincode, 560011, sputnik, v, dose, 1, 100, sl...</td>\n",
       "      <td>{'neg': 0.0, 'neu': 0.872, 'pos': 0.128, 'comp...</td>\n",
       "      <td>0.4215</td>\n",
       "      <td>Positive</td>\n",
       "    </tr>\n",
       "    <tr>\n",
       "      <th>206964</th>\n",
       "      <td>1445954643419226114</td>\n",
       "      <td>VaxBLR</td>\n",
       "      <td>Bengaluru, India</td>\n",
       "      <td>Hourly updates on FREE and PAID 18+ and 45+ va...</td>\n",
       "      <td>2021-06-21 08:44:34</td>\n",
       "      <td>26</td>\n",
       "      <td>0</td>\n",
       "      <td>0</td>\n",
       "      <td>False</td>\n",
       "      <td>2021-10-07 03:30:26</td>\n",
       "      <td>1844 bbmp bengaluru covidvaccine availability ...</td>\n",
       "      <td>['BBMP', 'Bengaluru', 'CovidVaccine', 'COVISHI...</td>\n",
       "      <td>VaxBlr</td>\n",
       "      <td>0</td>\n",
       "      <td>1</td>\n",
       "      <td>False</td>\n",
       "      <td>[1844, bbmp, bengaluru, covidvaccine, availabi...</td>\n",
       "      <td>{'neg': 0.0, 'neu': 0.798, 'pos': 0.202, 'comp...</td>\n",
       "      <td>0.5106</td>\n",
       "      <td>Positive</td>\n",
       "    </tr>\n",
       "    <tr>\n",
       "      <th>206965</th>\n",
       "      <td>1445954599345475592</td>\n",
       "      <td>VaxBLR</td>\n",
       "      <td>Bengaluru, India</td>\n",
       "      <td>Hourly updates on FREE and PAID 18+ and 45+ va...</td>\n",
       "      <td>2021-06-21 08:44:34</td>\n",
       "      <td>26</td>\n",
       "      <td>0</td>\n",
       "      <td>0</td>\n",
       "      <td>False</td>\n",
       "      <td>2021-10-07 03:30:15</td>\n",
       "      <td>1844 urban bengaluru covidvaccine availability...</td>\n",
       "      <td>['URBAN', 'Bengaluru', 'CovidVaccine', 'COVISH...</td>\n",
       "      <td>VaxBlr</td>\n",
       "      <td>0</td>\n",
       "      <td>0</td>\n",
       "      <td>False</td>\n",
       "      <td>[1844, urban, bengaluru, covidvaccine, availab...</td>\n",
       "      <td>{'neg': 0.0, 'neu': 0.809, 'pos': 0.191, 'comp...</td>\n",
       "      <td>0.5106</td>\n",
       "      <td>Positive</td>\n",
       "    </tr>\n",
       "    <tr>\n",
       "      <th>206966</th>\n",
       "      <td>1445947047052333057</td>\n",
       "      <td>VaxBLR</td>\n",
       "      <td>Bengaluru, India</td>\n",
       "      <td>Hourly updates on FREE and PAID 18+ and 45+ va...</td>\n",
       "      <td>2021-06-21 08:44:34</td>\n",
       "      <td>26</td>\n",
       "      <td>0</td>\n",
       "      <td>0</td>\n",
       "      <td>False</td>\n",
       "      <td>2021-10-07 03:00:15</td>\n",
       "      <td>45 urban bengaluru covidvaccine availability f...</td>\n",
       "      <td>['URBAN', 'Bengaluru', 'CovidVaccine', 'COVISH...</td>\n",
       "      <td>VaxBlr</td>\n",
       "      <td>0</td>\n",
       "      <td>0</td>\n",
       "      <td>False</td>\n",
       "      <td>[45, urban, bengaluru, covidvaccine, availabil...</td>\n",
       "      <td>{'neg': 0.0, 'neu': 0.809, 'pos': 0.191, 'comp...</td>\n",
       "      <td>0.5106</td>\n",
       "      <td>Positive</td>\n",
       "    </tr>\n",
       "  </tbody>\n",
       "</table>\n",
       "</div>"
      ],
      "text/plain": [
       "                         id          user_name     user_location  \\\n",
       "206962  1445962108055732232         COVID News    Estados Unidos   \n",
       "206963  1445956889305440264  CoWIN Blore 18-44  Bengaluru, India   \n",
       "206964  1445954643419226114             VaxBLR  Bengaluru, India   \n",
       "206965  1445954599345475592             VaxBLR  Bengaluru, India   \n",
       "206966  1445947047052333057             VaxBLR  Bengaluru, India   \n",
       "\n",
       "                                         user_description  \\\n",
       "206962                                News about COVID-19   \n",
       "206963  Get instant alerts for Free/Paid slots in BBMP...   \n",
       "206964  Hourly updates on FREE and PAID 18+ and 45+ va...   \n",
       "206965  Hourly updates on FREE and PAID 18+ and 45+ va...   \n",
       "206966  Hourly updates on FREE and PAID 18+ and 45+ va...   \n",
       "\n",
       "               user_created  user_followers  user_friends  user_favourites  \\\n",
       "206962  2013-06-05 08:52:31            3373          1472              129   \n",
       "206963  2021-06-29 09:33:13              21             0                2   \n",
       "206964  2021-06-21 08:44:34              26             0                0   \n",
       "206965  2021-06-21 08:44:34              26             0                0   \n",
       "206966  2021-06-21 08:44:34              26             0                0   \n",
       "\n",
       "        user_verified                 date  \\\n",
       "206962          False  2021-10-07 04:00:05   \n",
       "206963          False  2021-10-07 03:39:21   \n",
       "206964          False  2021-10-07 03:30:26   \n",
       "206965          False  2021-10-07 03:30:15   \n",
       "206966          False  2021-10-07 03:00:15   \n",
       "\n",
       "                                                     text  \\\n",
       "206962  45 urban bengaluru covidvaccine availability f...   \n",
       "206963  pincode 560011\\nsputnik v  dose 1 100 slots\\n\\...   \n",
       "206964  1844 bbmp bengaluru covidvaccine availability ...   \n",
       "206965  1844 urban bengaluru covidvaccine availability...   \n",
       "206966  45 urban bengaluru covidvaccine availability f...   \n",
       "\n",
       "                                                 hashtags             source  \\\n",
       "206962  ['URBAN', 'Bengaluru', 'CovidVaccine', 'COVISH...  Revive Social App   \n",
       "206963                                                NaN     CowinAlertsBot   \n",
       "206964  ['BBMP', 'Bengaluru', 'CovidVaccine', 'COVISHI...             VaxBlr   \n",
       "206965  ['URBAN', 'Bengaluru', 'CovidVaccine', 'COVISH...             VaxBlr   \n",
       "206966  ['URBAN', 'Bengaluru', 'CovidVaccine', 'COVISH...             VaxBlr   \n",
       "\n",
       "        retweets  favorites  is_retweet  \\\n",
       "206962         0          0       False   \n",
       "206963         0          0       False   \n",
       "206964         0          1       False   \n",
       "206965         0          0       False   \n",
       "206966         0          0       False   \n",
       "\n",
       "                                                tokenized  \\\n",
       "206962  [45, urban, bengaluru, covidvaccine, availabil...   \n",
       "206963  [pincode, 560011, sputnik, v, dose, 1, 100, sl...   \n",
       "206964  [1844, bbmp, bengaluru, covidvaccine, availabi...   \n",
       "206965  [1844, urban, bengaluru, covidvaccine, availab...   \n",
       "206966  [45, urban, bengaluru, covidvaccine, availabil...   \n",
       "\n",
       "                                              nltk_scores  nltk_cmp_score  \\\n",
       "206962  {'neg': 0.0, 'neu': 0.809, 'pos': 0.191, 'comp...          0.5106   \n",
       "206963  {'neg': 0.0, 'neu': 0.872, 'pos': 0.128, 'comp...          0.4215   \n",
       "206964  {'neg': 0.0, 'neu': 0.798, 'pos': 0.202, 'comp...          0.5106   \n",
       "206965  {'neg': 0.0, 'neu': 0.809, 'pos': 0.191, 'comp...          0.5106   \n",
       "206966  {'neg': 0.0, 'neu': 0.809, 'pos': 0.191, 'comp...          0.5106   \n",
       "\n",
       "       nltk_sentiment  \n",
       "206962       Positive  \n",
       "206963       Positive  \n",
       "206964       Positive  \n",
       "206965       Positive  \n",
       "206966       Positive  "
      ]
     },
     "execution_count": 33,
     "metadata": {},
     "output_type": "execute_result"
    }
   ],
   "source": [
    "df_tweet.tail()"
   ]
  },
  {
   "cell_type": "code",
   "execution_count": 35,
   "metadata": {},
   "outputs": [
    {
     "data": {
      "text/plain": [
       "count    206967.000000\n",
       "mean          0.090341\n",
       "std           0.328712\n",
       "min          -0.963400\n",
       "25%           0.000000\n",
       "50%           0.000000\n",
       "75%           0.361200\n",
       "max           0.984700\n",
       "Name: nltk_cmp_score, dtype: float64"
      ]
     },
     "execution_count": 35,
     "metadata": {},
     "output_type": "execute_result"
    }
   ],
   "source": [
    "df_tweet['nltk_cmp_score'].describe()"
   ]
  },
  {
   "cell_type": "code",
   "execution_count": 38,
   "metadata": {},
   "outputs": [
    {
     "data": {
      "text/html": [
       "<div>\n",
       "<style scoped>\n",
       "    .dataframe tbody tr th:only-of-type {\n",
       "        vertical-align: middle;\n",
       "    }\n",
       "\n",
       "    .dataframe tbody tr th {\n",
       "        vertical-align: top;\n",
       "    }\n",
       "\n",
       "    .dataframe thead th {\n",
       "        text-align: right;\n",
       "    }\n",
       "</style>\n",
       "<table border=\"1\" class=\"dataframe\">\n",
       "  <thead>\n",
       "    <tr style=\"text-align: right;\">\n",
       "      <th></th>\n",
       "      <th>sentiment</th>\n",
       "      <th>counts</th>\n",
       "      <th>percentage</th>\n",
       "      <th>analyzer</th>\n",
       "    </tr>\n",
       "  </thead>\n",
       "  <tbody>\n",
       "    <tr>\n",
       "      <th>0</th>\n",
       "      <td>Negative</td>\n",
       "      <td>33552</td>\n",
       "      <td>16.21</td>\n",
       "      <td>NLTK Vader</td>\n",
       "    </tr>\n",
       "    <tr>\n",
       "      <th>1</th>\n",
       "      <td>Neutral</td>\n",
       "      <td>103614</td>\n",
       "      <td>50.06</td>\n",
       "      <td>NLTK Vader</td>\n",
       "    </tr>\n",
       "    <tr>\n",
       "      <th>2</th>\n",
       "      <td>Positive</td>\n",
       "      <td>69801</td>\n",
       "      <td>33.73</td>\n",
       "      <td>NLTK Vader</td>\n",
       "    </tr>\n",
       "  </tbody>\n",
       "</table>\n",
       "</div>"
      ],
      "text/plain": [
       "  sentiment  counts  percentage    analyzer\n",
       "0  Negative   33552       16.21  NLTK Vader\n",
       "1   Neutral  103614       50.06  NLTK Vader\n",
       "2  Positive   69801       33.73  NLTK Vader"
      ]
     },
     "execution_count": 38,
     "metadata": {},
     "output_type": "execute_result"
    }
   ],
   "source": [
    "nltk_sentiment_df = get_value_counts('nltk_sentiment','NLTK Vader')\n",
    "nltk_sentiment_df"
   ]
  },
  {
   "cell_type": "code",
   "execution_count": 43,
   "metadata": {},
   "outputs": [
    {
     "data": {
      "image/png": "[encoded data removed]",
      "text/plain": [
       "<Figure size 432x288 with 1 Axes>"
      ]
     },
     "metadata": {},
     "output_type": "display_data"
    }
   ],
   "source": [
    "sns.set_theme(style=\"dark\")\n",
    "ax = sns.barplot(x=\"sentiment\", y=\"percentage\", data=nltk_sentiment_df)\n",
    "ax.set_title('NLTK Vader')\n",
    "\n",
    "for index, row in nltk_sentiment_df.iterrows():\n",
    "    ax.text(row.name,row.percentage, round(row.percentage,1), color='black', ha=\"center\")"
   ]
  },
  {
   "cell_type": "markdown",
   "metadata": {},
   "source": [
    "#### Sentiment Analysis with TextBlob"
   ]
  },
  {
   "cell_type": "code",
   "execution_count": 46,
   "metadata": {},
   "outputs": [],
   "source": [
    "# Obtain polarity scores generated by TextBlob\n",
    "df_tweet['textblob_score'] = df_tweet['text'].apply(lambda x: TextBlob(x).sentiment.polarity)"
   ]
  },
  {
   "cell_type": "code",
   "execution_count": 47,
   "metadata": {},
   "outputs": [],
   "source": [
    "neutral_thresh = 0.05"
   ]
  },
  {
   "cell_type": "code",
   "execution_count": 48,
   "metadata": {},
   "outputs": [],
   "source": [
    "# Convert polarity score into sentiment categories\n",
    "df_tweet['textblob_sentiment'] = df_tweet['textblob_score'].apply(lambda c: 'Positive' if c >= neutral_thresh else ('Negative' if c <= -(neutral_thresh) else 'Neutral'))\n"
   ]
  },
  {
   "cell_type": "code",
   "execution_count": 49,
   "metadata": {},
   "outputs": [
    {
     "data": {
      "text/plain": [
       "count    206967.000000\n",
       "mean          0.084630\n",
       "std           0.218079\n",
       "min          -1.000000\n",
       "25%           0.000000\n",
       "50%           0.000000\n",
       "75%           0.172222\n",
       "max           1.000000\n",
       "Name: textblob_score, dtype: float64"
      ]
     },
     "execution_count": 49,
     "metadata": {},
     "output_type": "execute_result"
    }
   ],
   "source": [
    "df_tweet['textblob_score'].describe()"
   ]
  },
  {
   "cell_type": "code",
   "execution_count": 50,
   "metadata": {},
   "outputs": [
    {
     "data": {
      "text/html": [
       "<div>\n",
       "<style scoped>\n",
       "    .dataframe tbody tr th:only-of-type {\n",
       "        vertical-align: middle;\n",
       "    }\n",
       "\n",
       "    .dataframe tbody tr th {\n",
       "        vertical-align: top;\n",
       "    }\n",
       "\n",
       "    .dataframe thead th {\n",
       "        text-align: right;\n",
       "    }\n",
       "</style>\n",
       "<table border=\"1\" class=\"dataframe\">\n",
       "  <thead>\n",
       "    <tr style=\"text-align: right;\">\n",
       "      <th></th>\n",
       "      <th>sentiment</th>\n",
       "      <th>counts</th>\n",
       "      <th>percentage</th>\n",
       "      <th>analyzer</th>\n",
       "    </tr>\n",
       "  </thead>\n",
       "  <tbody>\n",
       "    <tr>\n",
       "      <th>0</th>\n",
       "      <td>Negative</td>\n",
       "      <td>19984</td>\n",
       "      <td>9.66</td>\n",
       "      <td>TextBlob</td>\n",
       "    </tr>\n",
       "    <tr>\n",
       "      <th>1</th>\n",
       "      <td>Neutral</td>\n",
       "      <td>118239</td>\n",
       "      <td>57.13</td>\n",
       "      <td>TextBlob</td>\n",
       "    </tr>\n",
       "    <tr>\n",
       "      <th>2</th>\n",
       "      <td>Positive</td>\n",
       "      <td>68744</td>\n",
       "      <td>33.21</td>\n",
       "      <td>TextBlob</td>\n",
       "    </tr>\n",
       "  </tbody>\n",
       "</table>\n",
       "</div>"
      ],
      "text/plain": [
       "  sentiment  counts  percentage  analyzer\n",
       "0  Negative   19984        9.66  TextBlob\n",
       "1   Neutral  118239       57.13  TextBlob\n",
       "2  Positive   68744       33.21  TextBlob"
      ]
     },
     "execution_count": 50,
     "metadata": {},
     "output_type": "execute_result"
    }
   ],
   "source": [
    "textblob_sentiment_df = get_value_counts('textblob_sentiment','TextBlob')\n",
    "textblob_sentiment_df"
   ]
  },
  {
   "cell_type": "code",
   "execution_count": 51,
   "metadata": {},
   "outputs": [
    {
     "data": {
      "image/png": "[encoded data removed]",
      "text/plain": [
       "<Figure size 432x288 with 1 Axes>"
      ]
     },
     "metadata": {},
     "output_type": "display_data"
    }
   ],
   "source": [
    "sns.set_theme(style=\"dark\")\n",
    "ax = sns.barplot(x=\"sentiment\", y=\"percentage\", data=textblob_sentiment_df)\n",
    "ax.set_title('TextBlob')\n",
    "\n",
    "for index, row in textblob_sentiment_df.iterrows():\n",
    "    ax.text(row.name,row.percentage, round(row.percentage,1), color='black', ha=\"center\")"
   ]
  },
  {
   "cell_type": "markdown",
   "metadata": {},
   "source": [
    "#### Average"
   ]
  },
  {
   "cell_type": "code",
   "execution_count": 85,
   "metadata": {},
   "outputs": [],
   "source": [
    "df_tweet['composite_score'] =  (df_tweet['nltk_cmp_score'] \n",
    "                                + df_tweet['textblob_score']\n",
    "                                )/2"
   ]
  },
  {
   "cell_type": "code",
   "execution_count": 118,
   "metadata": {},
   "outputs": [],
   "source": [
    "neutral_thresh = 0.05"
   ]
  },
  {
   "cell_type": "code",
   "execution_count": 119,
   "metadata": {},
   "outputs": [],
   "source": [
    "# Convert average sentiment score (from all 3 analyzers) into sentiment categories\n",
    "df_tweet['composite_vote_2'] = df_tweet['composite_score'].apply(lambda c: 'Positive' if c >= neutral_thresh else ('Negative' if c <= -(neutral_thresh) else 'Neutral'))"
   ]
  },
  {
   "cell_type": "code",
   "execution_count": 120,
   "metadata": {},
   "outputs": [
    {
     "data": {
      "text/html": [
       "<div>\n",
       "<style scoped>\n",
       "    .dataframe tbody tr th:only-of-type {\n",
       "        vertical-align: middle;\n",
       "    }\n",
       "\n",
       "    .dataframe tbody tr th {\n",
       "        vertical-align: top;\n",
       "    }\n",
       "\n",
       "    .dataframe thead th {\n",
       "        text-align: right;\n",
       "    }\n",
       "</style>\n",
       "<table border=\"1\" class=\"dataframe\">\n",
       "  <thead>\n",
       "    <tr style=\"text-align: right;\">\n",
       "      <th></th>\n",
       "      <th>sentiment</th>\n",
       "      <th>counts</th>\n",
       "      <th>percentage</th>\n",
       "      <th>analyzer</th>\n",
       "    </tr>\n",
       "  </thead>\n",
       "  <tbody>\n",
       "    <tr>\n",
       "      <th>0</th>\n",
       "      <td>Negative</td>\n",
       "      <td>28569</td>\n",
       "      <td>13.80</td>\n",
       "      <td>Composite Sentiment</td>\n",
       "    </tr>\n",
       "    <tr>\n",
       "      <th>1</th>\n",
       "      <td>Neutral</td>\n",
       "      <td>101250</td>\n",
       "      <td>48.92</td>\n",
       "      <td>Composite Sentiment</td>\n",
       "    </tr>\n",
       "    <tr>\n",
       "      <th>2</th>\n",
       "      <td>Positive</td>\n",
       "      <td>77148</td>\n",
       "      <td>37.28</td>\n",
       "      <td>Composite Sentiment</td>\n",
       "    </tr>\n",
       "  </tbody>\n",
       "</table>\n",
       "</div>"
      ],
      "text/plain": [
       "  sentiment  counts  percentage             analyzer\n",
       "0  Negative   28569       13.80  Composite Sentiment\n",
       "1   Neutral  101250       48.92  Composite Sentiment\n",
       "2  Positive   77148       37.28  Composite Sentiment"
      ]
     },
     "execution_count": 120,
     "metadata": {},
     "output_type": "execute_result"
    }
   ],
   "source": [
    "composite_sentiment_df_2 = get_value_counts('composite_vote_2','Composite Sentiment')\n",
    "composite_sentiment_df_2"
   ]
  },
  {
   "cell_type": "code",
   "execution_count": 121,
   "metadata": {},
   "outputs": [
    {
     "data": {
      "image/png": "[encoded data removed]",
      "text/plain": [
       "<Figure size 720x432 with 1 Axes>"
      ]
     },
     "metadata": {},
     "output_type": "display_data"
    }
   ],
   "source": [
    "plt.figure(figsize=(10,6))\n",
    "ax = sns.barplot(x=\"sentiment\", y=\"percentage\",\n",
    "                 data=composite_sentiment_df_2)\n",
    "\n",
    "# Display annotations\n",
    "for p in ax.patches:\n",
    "    ax.annotate(f\"{round(p.get_height(),1)}%\", \n",
    "                   (p.get_x() + p.get_width() / 2., p.get_height()), \n",
    "                   ha = 'center', va = 'center', \n",
    "                   size=12,\n",
    "                   xytext = (0, -12), \n",
    "                   textcoords = 'offset points')"
   ]
  },
  {
   "cell_type": "code",
   "execution_count": null,
   "metadata": {},
   "outputs": [],
   "source": [
    "df_tweet.to_csv(\"../data/vaccination_tweets_sentiment.csv\")"
   ]
  }
 ],
 "metadata": {
  "kernelspec": {
   "display_name": "Python 3",
   "language": "python",
   "name": "python3"
  },
  "language_info": {
   "codemirror_mode": {
    "name": "ipython",
    "version": 3
   },
   "file_extension": ".py",
   "mimetype": "text/x-python",
   "name": "python",
   "nbconvert_exporter": "python",
   "pygments_lexer": "ipython3",
   "version": "3.8.3"
  }
 },
 "nbformat": 4,
 "nbformat_minor": 4
}
